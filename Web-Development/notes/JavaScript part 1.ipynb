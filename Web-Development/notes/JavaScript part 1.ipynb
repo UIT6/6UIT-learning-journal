{
 "cells": [
  {
   "cell_type": "markdown",
   "id": "76fc8636",
   "metadata": {},
   "source": [
    "[课件](https://github.com/UIT6/6UIT-learning-journal/blob/e83280c39fba3f8631ae5aed6f696ed2acd35d20/Web-Development/files/Lecture%207%20-%20JavaScript%20p1.pdf)"
   ]
  },
  {
   "cell_type": "markdown",
   "id": "ac2ee0e1",
   "metadata": {},
   "source": []
  }
 ],
 "metadata": {
  "language_info": {
   "name": "python"
  }
 },
 "nbformat": 4,
 "nbformat_minor": 5
}
